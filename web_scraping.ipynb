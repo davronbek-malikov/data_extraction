{
 "cells": [
  {
   "cell_type": "markdown",
   "id": "8510b3cf",
   "metadata": {},
   "source": [
    "# 🌐 Web Scraping\n",
    "\n",
    "## 🔹 What is Web Scraping?\n",
    "**Web Scraping** is the process of **extracting information from websites** automatically using code.  \n",
    "Instead of copying data manually, web scraping allows us to **collect large amounts of data** quickly and efficiently.  \n",
    "\n",
    "💡 Example: Extracting football match results or player stats from [FBref](https://fbref.com) for analysis.\n",
    "\n",
    "---\n",
    "\n",
    "## 🔹 Why Use Web Scraping?\n",
    "✔ Automates repetitive data collection  \n",
    "✔ Collects data **not available via APIs**  \n",
    "✔ Enables large-scale **sports, finance, e-commerce, research, and academic** projects  \n",
    "✔ Converts **unstructured website data** into structured formats like CSV/Excel  \n",
    "\n",
    "---\n",
    "\n",
    "## 🔹 Key Components of Web Scraping\n",
    "1. **HTTP Requests** → Connect to a webpage (`requests`)  \n",
    "2. **HTML Parsing** → Extract useful data (`BeautifulSoup`, `lxml`)  \n",
    "3. **Data Structuring** → Organize into tables (`pandas`)  \n",
    "4. **Data Storage** → Save into CSV, Excel, or database  \n",
    "\n",
    "---\n",
    "\n",
    "## 🔹 Tools & Libraries\n",
    "- 🐍 **Python Libraries**\n",
    "  - `requests` → Download HTML  \n",
    "  - `BeautifulSoup` → Parse HTML tags  \n",
    "  - `pandas.read_html` → Extract tables directly  \n",
    "  - `Scrapy` → Advanced framework for large projects  \n",
    "  - `Selenium` → Automate scraping from dynamic JavaScript pages  \n",
    "\n",
    "---\n",
    "\n",
    "## 🔹 Web Scraping Workflow\n",
    "1. 🔗 **Find the target website** (e.g., player stats page)  \n",
    "2. 🔎 **Inspect HTML structure** using browser dev tools  \n",
    "3. 📝 **Write scraping script** (using `requests + BeautifulSoup`)  \n",
    "4. 🧹 **Clean and structure data**  \n",
    "5. 💾 **Save results** (CSV/Database)  \n",
    "\n",
    "---\n",
    "\n"
   ]
  },
  {
   "cell_type": "markdown",
   "id": "d8fcdebf",
   "metadata": {},
   "source": [
    "# 🏆 Extracting Premier League 2024/25 Table (Step-by-Step)\n",
    "\n",
    "This guide pulls standings from the official Premier League website’s backend API and writes a clean CSV.\n",
    "\n",
    "---\n",
    "\n",
    "## 0) Install dependencies (once)\n",
    "\n",
    "```bash\n",
    "pip install requests pandas beautifulsoup4 selenium webdriver-manager\n"
   ]
  },
  {
   "cell_type": "code",
   "execution_count": null,
   "id": "023a1df8",
   "metadata": {},
   "outputs": [],
   "source": [
    "# ## 🔹 Example: Extracting Football Stats (BeautifulSoup)\n",
    "\n",
    "# ```python\n",
    "# import requests\n",
    "# from bs4 import BeautifulSoup\n",
    "# import pandas as pd\n",
    "\n",
    "# # Step 1: Get the webpage\n",
    "# url = \"https://fbref.com/en/comps/9/Premier-League-Stats\"\n",
    "# response = requests.get(url)\n",
    "\n",
    "# # Step 2: Parse HTML\n",
    "# soup = BeautifulSoup(response.text, \"html.parser\")\n",
    "\n",
    "# # Step 3: Find table\n",
    "# table = soup.find(\"table\")\n",
    "\n",
    "# # Step 4: Convert to DataFrame\n",
    "# df = pd.read_html(str(table))[0]\n",
    "\n",
    "# # Step 5: Save\n",
    "# df.to_csv(\"premier_league_stats.csv\", index=False)\n",
    "\n",
    "# print(df.head())\n"
   ]
  },
  {
   "cell_type": "code",
   "execution_count": 2,
   "id": "6b5562ea",
   "metadata": {},
   "outputs": [],
   "source": [
    "from selenium import webdriver\n",
    "from selenium.webdriver.chrome.service import Service\n",
    "from webdriver_manager.chrome import ChromeDriverManager\n",
    "from bs4 import BeautifulSoup\n",
    "import pandas as pd\n",
    "import time"
   ]
  },
  {
   "cell_type": "code",
   "execution_count": 5,
   "id": "d4ca5591",
   "metadata": {},
   "outputs": [],
   "source": [
    "# 1️⃣ URL of EPL table\n",
    "url = \"https://www.premierleague.com/en/tables?competition=8&season=2024&round=L_1&matchweek=-1&ha=-1\"\n"
   ]
  },
  {
   "cell_type": "code",
   "execution_count": 4,
   "id": "41850470",
   "metadata": {},
   "outputs": [],
   "source": [
    "# 2️⃣ Setup headless Chrome\n",
    "options = webdriver.ChromeOptions()\n",
    "options.add_argument(\"--headless\")\n",
    "options.add_argument(\"--no-sandbox\")\n",
    "options.add_argument(\"--disable-dev-shm-usage\")\n",
    "driver = webdriver.Chrome(service=Service(ChromeDriverManager().install()), options=options)"
   ]
  },
  {
   "cell_type": "code",
   "execution_count": 6,
   "id": "b8e65eae",
   "metadata": {},
   "outputs": [],
   "source": [
    "# 3️⃣ Open the page\n",
    "driver.get(url)\n",
    "time.sleep(5)  # wait for JavaScript to render"
   ]
  },
  {
   "cell_type": "code",
   "execution_count": 7,
   "id": "5686099a",
   "metadata": {},
   "outputs": [],
   "source": [
    "# 4️⃣ Get page source and parse with BeautifulSoup\n",
    "soup = BeautifulSoup(driver.page_source, \"html.parser\")"
   ]
  },
  {
   "cell_type": "code",
   "execution_count": null,
   "id": "53578f5e",
   "metadata": {},
   "outputs": [],
   "source": []
  },
  {
   "cell_type": "code",
   "execution_count": null,
   "id": "6f636fcd",
   "metadata": {},
   "outputs": [],
   "source": []
  }
 ],
 "metadata": {
  "kernelspec": {
   "display_name": "Python 3",
   "language": "python",
   "name": "python3"
  },
  "language_info": {
   "codemirror_mode": {
    "name": "ipython",
    "version": 3
   },
   "file_extension": ".py",
   "mimetype": "text/x-python",
   "name": "python",
   "nbconvert_exporter": "python",
   "pygments_lexer": "ipython3",
   "version": "3.12.8"
  }
 },
 "nbformat": 4,
 "nbformat_minor": 5
}
